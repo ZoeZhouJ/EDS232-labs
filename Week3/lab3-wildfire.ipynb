{
 "cells": [
  {
   "cell_type": "code",
   "execution_count": 1,
   "id": "6d41e7de-5f0c-4baf-a37f-ec5dbe4f7428",
   "metadata": {
    "tags": []
   },
   "outputs": [],
   "source": [
    "# Imports\n",
    "import pandas as pd\n",
    "import numpy as np\n",
    "from sklearn.model_selection import train_test_split\n",
    "from sklearn.preprocessing import StandardScaler\n",
    "from sklearn.linear_model import LogisticRegression\n",
    "from sklearn.dummy import DummyClassifier\n",
    "from sklearn.metrics import mean_squared_error, accuracy_score, confusion_matrix, classification_report, roc_curve, roc_auc_score, ConfusionMatrixDisplay\n",
    "import matplotlib.pyplot as plt\n",
    "import seaborn as sns"
   ]
  },
  {
   "cell_type": "markdown",
   "id": "e492775e-957c-40b4-b64f-5de93dbea5e1",
   "metadata": {},
   "source": [
    "# Lab 4: Fire and Tree Mortality\n",
    "Author: Zoe Zhou\n",
    "# About the data\n",
    "Wildfires are increasingly frequent and severe due to climate change. Predicting tree mortality following a wildfire is critical for forest management, ecosystem recovery, and carbon sequestration planning. In this lab, we will build a logistic regression model to predict the probability of tree mortality one year after a wildfire\n",
    "\n",
    "The database we'll be working with today includes observations of individual trees involved in prescribed fires and wildfires occurring over 35 years, from 1981 to 2016. It is drawn from a fire and tree mortality database from the US Forest Service (see data description for the full database here: [link](https://www.nature.com/articles/s41597-020-0522-7#Sec10)).\n",
    "\n",
    "The target variable we'll use is `yr1status`, which is a binary variable (0=alive, 1=dead).  This tells us if a tree has died one year after a fire event.\n",
    "\n",
    "The features we'll use are `YrFireName`, `Times_burned`, `Species`, `Genus_species`,\n",
    "    `DBH_cm`, `HT_m`, `CR_pre`, and `CR_post`."
   ]
  },
  {
   "cell_type": "markdown",
   "id": "8f2c5ce6-eb43-4544-8b88-c306a7618c85",
   "metadata": {},
   "source": [
    "## Step 1: Check the metadata\n",
    "\n",
    "Look at the metadata and provide a description on what each variable represents in the Description column below.\n"
   ]
  },
  {
   "cell_type": "markdown",
   "id": "c7b239ac-123f-4458-bf2c-fc46dcf5cc0a",
   "metadata": {},
   "source": [
    "| Feature                     | Description                                                                                   |\n",
    "|-----------------------------|-----------------------------------------------------------------------------------------------| \n",
    "| yr1status                   | Tree status 1 year after fire\n",
    "| YrFireName                  | Year and name of fire                                    \n",
    "| Times_burned                | Numbers of time this tree was burned                                             \n",
    "| Species                     | Tree species abbreviation                                                    \n",
    "| Genus_species               | Genus and species of tree                                      \n",
    "| DBH_cm                      | Diameter at breast height\n",
    "| HT_m                        | Pre-fire tree height \n",
    "| CR_pre                      | Pre-fire crown ratio\n",
    "| CR_post                     | Post-fire crown ratio"
   ]
  },
  {
   "cell_type": "markdown",
   "id": "55d355a0",
   "metadata": {},
   "source": [
    "## Step 2: Fetch  data\n",
    "Read in the data set and filter to retain only the variables of interest.  Then check for incomplete observations and remove any rows containing NaNs.  How many observations does that leave us with? **Print your answer.**"
   ]
  },
  {
   "cell_type": "code",
   "execution_count": 2,
   "id": "ac926dc2",
   "metadata": {
    "tags": []
   },
   "outputs": [
    {
     "name": "stdout",
     "output_type": "stream",
     "text": [
      "yr1status        0\n",
      "YrFireName       0\n",
      "Times_burned     0\n",
      "Species          0\n",
      "Genus_species    0\n",
      "DBH_cm           0\n",
      "HT_m             0\n",
      "CR_pre           0\n",
      "CR_post          0\n",
      "dtype: int64\n",
      "\n",
      "Number of Observations: 36509\n"
     ]
    },
    {
     "name": "stderr",
     "output_type": "stream",
     "text": [
      "/tmp/ipykernel_1469578/193754660.py:2: DtypeWarning: Columns (4,5,6,7,10,62,63) have mixed types. Specify dtype option on import or set low_memory=False.\n",
      "  trees_dat = pd.read_csv('/courses/EDS232/Data/FTM_trees.csv')\n"
     ]
    }
   ],
   "source": [
    "# Load the dataset\n",
    "trees_dat = pd.read_csv('/courses/EDS232/Data/FTM_trees.csv')\n",
    "# Select columns\n",
    "trees_dat = trees_dat[['yr1status', 'YrFireName', 'Times_burned', 'Species', 'Genus_species','DBH_cm', 'HT_m', 'CR_pre', 'CR_post']]\n",
    "# Check and remove na\n",
    "trees_dat = trees_dat.dropna()\n",
    "print(trees_dat.isna().sum())\n",
    "# Print number of observations\n",
    "print(f\"\\nNumber of Observations: {trees_dat.shape[0]}\")"
   ]
  },
  {
   "cell_type": "markdown",
   "id": "aaf806bf",
   "metadata": {},
   "source": [
    "## Step 3: Data Preprocessing\n",
    "1. We recode categorical predictors to zero-based integer form because most machine learning models, including logistic regression, cannot work directly with categorical data represented as strings or labels. Instead, models require numerical input. Let's do that here. \n"
   ]
  },
  {
   "cell_type": "code",
   "execution_count": 3,
   "id": "1e41fb79-ad31-4162-ac76-887461bb4160",
   "metadata": {
    "tags": []
   },
   "outputs": [
    {
     "data": {
      "text/plain": [
       "yr1status        float64\n",
       "YrFireName         int64\n",
       "Times_burned       int64\n",
       "Species            int64\n",
       "Genus_species      int64\n",
       "DBH_cm           float64\n",
       "HT_m             float64\n",
       "CR_pre           float64\n",
       "CR_post          float64\n",
       "dtype: object"
      ]
     },
     "execution_count": 3,
     "metadata": {},
     "output_type": "execute_result"
    }
   ],
   "source": [
    "# check data types\n",
    "trees_dat.dtypes\n",
    "\n",
    "# Convert categorical columns to integer codes using pd.factorize\n",
    "categorical_columns = ['YrFireName', 'Species', 'Genus_species']\n",
    "\n",
    "for col in categorical_columns:\n",
    "    trees_dat[col], _ = pd.factorize(trees_dat[col])\n",
    "\n",
    "# Check date types\n",
    "trees_dat.dtypes"
   ]
  },
  {
   "cell_type": "markdown",
   "id": "fdcc4673-26dc-4c09-8c9a-0f2f97abe16f",
   "metadata": {},
   "source": [
    "2. Then we'll split into training and test data and scale for coefficient interpretability.  Recall that we use the training features to calculate our scaling parameters (mean and standard deviation) and apply the scaling to those training features (`scaler.fit_transform`) and then apply the scaling to the features in the test data as well (`scaler.transform`).\n"
   ]
  },
  {
   "cell_type": "code",
   "execution_count": 4,
   "id": "d9a3b141-899b-492d-9ece-5298d94de076",
   "metadata": {
    "tags": []
   },
   "outputs": [
    {
     "data": {
      "text/html": [
       "<div>\n",
       "<style scoped>\n",
       "    .dataframe tbody tr th:only-of-type {\n",
       "        vertical-align: middle;\n",
       "    }\n",
       "\n",
       "    .dataframe tbody tr th {\n",
       "        vertical-align: top;\n",
       "    }\n",
       "\n",
       "    .dataframe thead th {\n",
       "        text-align: right;\n",
       "    }\n",
       "</style>\n",
       "<table border=\"1\" class=\"dataframe\">\n",
       "  <thead>\n",
       "    <tr style=\"text-align: right;\">\n",
       "      <th></th>\n",
       "      <th>yr1status</th>\n",
       "      <th>YrFireName</th>\n",
       "      <th>Times_burned</th>\n",
       "      <th>Species</th>\n",
       "      <th>Genus_species</th>\n",
       "      <th>DBH_cm</th>\n",
       "      <th>HT_m</th>\n",
       "      <th>CR_pre</th>\n",
       "      <th>CR_post</th>\n",
       "    </tr>\n",
       "  </thead>\n",
       "  <tbody>\n",
       "    <tr>\n",
       "      <th>500</th>\n",
       "      <td>0.0</td>\n",
       "      <td>0</td>\n",
       "      <td>1</td>\n",
       "      <td>0</td>\n",
       "      <td>0</td>\n",
       "      <td>71.374</td>\n",
       "      <td>41.76</td>\n",
       "      <td>0.84</td>\n",
       "      <td>0.74</td>\n",
       "    </tr>\n",
       "    <tr>\n",
       "      <th>501</th>\n",
       "      <td>0.0</td>\n",
       "      <td>0</td>\n",
       "      <td>1</td>\n",
       "      <td>0</td>\n",
       "      <td>0</td>\n",
       "      <td>23.622</td>\n",
       "      <td>12.80</td>\n",
       "      <td>0.60</td>\n",
       "      <td>0.57</td>\n",
       "    </tr>\n",
       "    <tr>\n",
       "      <th>502</th>\n",
       "      <td>0.0</td>\n",
       "      <td>0</td>\n",
       "      <td>1</td>\n",
       "      <td>0</td>\n",
       "      <td>0</td>\n",
       "      <td>46.228</td>\n",
       "      <td>34.75</td>\n",
       "      <td>0.75</td>\n",
       "      <td>0.59</td>\n",
       "    </tr>\n",
       "    <tr>\n",
       "      <th>503</th>\n",
       "      <td>0.0</td>\n",
       "      <td>0</td>\n",
       "      <td>1</td>\n",
       "      <td>0</td>\n",
       "      <td>0</td>\n",
       "      <td>21.082</td>\n",
       "      <td>23.16</td>\n",
       "      <td>0.38</td>\n",
       "      <td>0.38</td>\n",
       "    </tr>\n",
       "    <tr>\n",
       "      <th>504</th>\n",
       "      <td>0.0</td>\n",
       "      <td>0</td>\n",
       "      <td>1</td>\n",
       "      <td>0</td>\n",
       "      <td>0</td>\n",
       "      <td>24.384</td>\n",
       "      <td>26.21</td>\n",
       "      <td>0.42</td>\n",
       "      <td>0.42</td>\n",
       "    </tr>\n",
       "  </tbody>\n",
       "</table>\n",
       "</div>"
      ],
      "text/plain": [
       "     yr1status  YrFireName  Times_burned  Species  Genus_species  DBH_cm  \\\n",
       "500        0.0           0             1        0              0  71.374   \n",
       "501        0.0           0             1        0              0  23.622   \n",
       "502        0.0           0             1        0              0  46.228   \n",
       "503        0.0           0             1        0              0  21.082   \n",
       "504        0.0           0             1        0              0  24.384   \n",
       "\n",
       "      HT_m  CR_pre  CR_post  \n",
       "500  41.76    0.84     0.74  \n",
       "501  12.80    0.60     0.57  \n",
       "502  34.75    0.75     0.59  \n",
       "503  23.16    0.38     0.38  \n",
       "504  26.21    0.42     0.42  "
      ]
     },
     "execution_count": 4,
     "metadata": {},
     "output_type": "execute_result"
    }
   ],
   "source": [
    "trees_dat.head()"
   ]
  },
  {
   "cell_type": "code",
   "execution_count": 5,
   "id": "54b2f9d2-f414-4bf2-b0a3-51d55f3d997a",
   "metadata": {
    "tags": []
   },
   "outputs": [],
   "source": [
    "# Assign predictor and outcome variables \n",
    "X = trees_dat[[ 'YrFireName', 'Times_burned', 'Species', 'Genus_species','DBH_cm', 'HT_m', 'CR_pre', 'CR_post']]\n",
    "y = trees_dat.yr1status\n",
    "\n",
    "# Split the data\n",
    "X_train, X_test, y_train, y_test = train_test_split(X, y, test_size=0.3, random_state = 42)\n",
    "\n",
    "# Standardize the predictors\n",
    "scaler = StandardScaler() # Calculate mean \n",
    "X_train_scaled = scaler.fit_transform(X_train)\n",
    "X_test_scaled = scaler.transform(X_test) # scale X_test with what mean and variance calculated in X_train"
   ]
  },
  {
   "cell_type": "markdown",
   "id": "3055eca1-9c22-4266-95a0-710b43be5a8e",
   "metadata": {},
   "source": [
    "3. How many training/test observations do we have? Print your answer in the cell below. "
   ]
  },
  {
   "cell_type": "code",
   "execution_count": 6,
   "id": "fdb4803d-8680-4ede-b790-3579f4a485e7",
   "metadata": {
    "tags": []
   },
   "outputs": [
    {
     "name": "stdout",
     "output_type": "stream",
     "text": [
      "Training set observations: 25556\n",
      "Testing set observations: 10953\n"
     ]
    }
   ],
   "source": [
    "# Verify the training and testing set size\n",
    "print(\"Training set observations:\", len(X_train_scaled))\n",
    "print(\"Testing set observations:\", len(X_test_scaled))"
   ]
  },
  {
   "cell_type": "markdown",
   "id": "4ca8857c",
   "metadata": {},
   "source": [
    "## Step 4: Train a Logistical Model\n",
    "Create a classifier using `LogisticRegression()` and fit it on the training data.  Then assess the model's accuracy on the training set by making predictions on the training data.  Calculate and **print** the accuracy of your model on the training set. "
   ]
  },
  {
   "cell_type": "code",
   "execution_count": 7,
   "id": "578b2ca5",
   "metadata": {
    "tags": []
   },
   "outputs": [
    {
     "name": "stdout",
     "output_type": "stream",
     "text": [
      "Training Accuracy:  0.9436\n",
      "mse:  0.0564\n"
     ]
    }
   ],
   "source": [
    "# Initialize model\n",
    "classifier = LogisticRegression()\n",
    "# Fit model with training set \n",
    "classifier.fit(X_train_scaled, y_train)\n",
    "# Use model for prediction \n",
    "y_train_pred = classifier.predict(X_train_scaled)\n",
    "# Access model accuracy on training set\n",
    "mse_train = mean_squared_error(y_train, y_train_pred)\n",
    "accuracy_train = accuracy_score(y_train, y_train_pred)\n",
    "print(f\"Training Accuracy: {accuracy_train: .4f}\")\n",
    "print(f\"mse: {mse_train: .4f}\")\n"
   ]
  },
  {
   "cell_type": "markdown",
   "id": "34d86616",
   "metadata": {},
   "source": [
    "## Step 5: Test Set Predictions and Model Evaluation\n",
    "Now let's take our trained logistic classifier and make predictions on the test set. Calculate the accuracy and confusion matrix. Then use `sns.heatmap` for improved confusion matrix visualization."
   ]
  },
  {
   "cell_type": "code",
   "execution_count": 8,
   "id": "799e912b-2954-459f-b501-b190c6776b25",
   "metadata": {
    "tags": []
   },
   "outputs": [
    {
     "name": "stdout",
     "output_type": "stream",
     "text": [
      "Accuracy:  0.9393\n",
      "\n",
      "Metrics from Confusion Matrix:\n",
      "Sensitivity (true positive rate): 0.9519\n",
      "Specificity (true negative rate): 0.7165\n"
     ]
    }
   ],
   "source": [
    "# Prediction with test data\n",
    "y_test_pred = classifier.predict(X_test_scaled)\n",
    "test_accuracy = accuracy_score(y_test, y_test_pred)\n",
    "# Print evaluation metrics\n",
    "print(f\"Accuracy: {test_accuracy: .4f}\")\n",
    "\n",
    "# Calculate confusion matrix\n",
    "matrix = confusion_matrix(y_test, y_test_pred)\n",
    "\n",
    "# Calculate metrics\n",
    "TN = matrix[1,1]\n",
    "TP = matrix[0,0]\n",
    "FP = matrix[0,1]\n",
    "FN = matrix[1,0]\n",
    "sensitivity = TP / (TP + FN) \n",
    "specificity = TN / (TN + FP)\n",
    "\n",
    "print(\"\\nMetrics from Confusion Matrix:\")\n",
    "print(f\"Sensitivity (true positive rate): {sensitivity:.4f}\")\n",
    "print(f\"Specificity (true negative rate): {specificity:.4f}\")\n",
    "# visualization\n",
    "#ConfusionMatrixDisplay(confusion_matrix=matrix, display_labels=[\"Class 0\", \"Class 1\"]).plot(cmap=\"Blues\", ax=plt.gca())"
   ]
  },
  {
   "cell_type": "code",
   "execution_count": 9,
   "id": "d5a8edc9-5549-4084-bfad-7c7aeb15f36e",
   "metadata": {
    "tags": []
   },
   "outputs": [
    {
     "data": {
      "image/png": "[encoded data removed]",
      "text/plain": [
       "<Figure size 640x480 with 2 Axes>"
      ]
     },
     "metadata": {},
     "output_type": "display_data"
    },
    {
     "name": "stdout",
     "output_type": "stream",
     "text": [
      "\n",
      "True Positives (correctly predicted alive): 9866\n",
      "False Positives (Incorrectly predicted alive): 167\n",
      "True Negatives (correctly predicted dead): 422\n",
      "False Negatives (incorrectly predicted dead): 498\n"
     ]
    }
   ],
   "source": [
    "#Plot confusion matrix\n",
    "sns.heatmap(matrix,annot=True, cmap='coolwarm', fmt=\".0f\", linewidths=0.5)\n",
    "plt.title(\"Confusion Matrix of Logistic Classifer\")\n",
    "plt.xlabel(\"Predicted Label\")\n",
    "plt.ylabel(\"True Label\")\n",
    "plt.show()\n",
    "\n",
    "print(f\"\\nTrue Positives (correctly predicted alive): {TP}\")\n",
    "print(f\"False Positives (Incorrectly predicted alive): {FP}\")\n",
    "print(f\"True Negatives (correctly predicted dead): {TN}\")\n",
    "print(f\"False Negatives (incorrectly predicted dead): {FN}\")"
   ]
  },
  {
   "cell_type": "markdown",
   "id": "9b5cdbbb",
   "metadata": {},
   "source": [
    "## Step 6: Logistic Classifier Evaluation\n",
    "How did your model perform on the unseen data? \n",
    "Does your model perform differently on observations of trees that survived vs trees that died?\n",
    "Is there a class imbalance in this data set?"
   ]
  },
  {
   "cell_type": "markdown",
   "id": "7c651ef7",
   "metadata": {},
   "source": [
    "The model reached 94% accuracy on the unseen data. But the model performs better on observation of trees that survived than trees that died: the model correctly predicted 9,866 instances of the \"alive\" class (True Positives) but only 422 instances of the \"dead\" class (True Negatives). The number of False Negatives (498) is also higher than False Positives (167). Additionally, there is a class imbalance in the dataset because there are more alive trees observations than dead trees in the dataset as a whole."
   ]
  },
  {
   "cell_type": "markdown",
   "id": "c60c7e36",
   "metadata": {},
   "source": [
    "## Step 7: What about a Dummy?\n",
    "What do you think would happen if we built a model that always predicts the majority class (alive trees)? How would its accuracy compare to your logistic regression model?"
   ]
  },
  {
   "cell_type": "markdown",
   "id": "e66ba576",
   "metadata": {},
   "source": [
    "A dummy classifier might also predict well because of the class imbalance. In terms of accuracy, I think logistic regression might still do better. "
   ]
  },
  {
   "cell_type": "markdown",
   "id": "6854360d",
   "metadata": {},
   "source": [
    "Let's go ahead and do it: use `DummyClassifier()` with the appropriate value for the 'strategy' parameter to train a majority classifier.  Then calculate this model's accuracy on the training data."
   ]
  },
  {
   "cell_type": "code",
   "execution_count": 10,
   "id": "fe5b4015",
   "metadata": {
    "tags": []
   },
   "outputs": [
    {
     "name": "stdout",
     "output_type": "stream",
     "text": [
      "Dummy Accuracy: 0.9172\n",
      "\n",
      "Dummy Confusion Matrix:\n"
     ]
    },
    {
     "data": {
      "image/png": "[encoded data removed]",
      "text/plain": [
       "<Figure size 640x480 with 2 Axes>"
      ]
     },
     "metadata": {},
     "output_type": "display_data"
    },
    {
     "name": "stdout",
     "output_type": "stream",
     "text": [
      "\n",
      "True Positives (correctly predicted alive): 10033\n",
      "False Positives (Incorrectly predicted alive): 0\n",
      "True Negatives (correctly predicted dead): 0\n",
      "False Negatives (incorrectly predicted dead): 920\n"
     ]
    }
   ],
   "source": [
    "# create dummy classifier and fit\n",
    "dummy_classifier = DummyClassifier(strategy=\"most_frequent\").fit(X_train_scaled, y_train)\n",
    "\n",
    "# Predict within training data\n",
    "dummy_train_pred = dummy_classifier.predict(X_train_scaled)\n",
    "# Calculate model's accuracy on training \n",
    "dummy_acc_train = accuracy_score(y_train, dummy_train_pred)\n",
    "# Print accuracy and confusion matrix results\n",
    "print(f\"Dummy Accuracy: {dummy_acc_train:.4f}\")\n",
    "\n",
    "# predict on test data\n",
    "dummy_test_pred = dummy_classifier.predict(X_test_scaled)\n",
    "# Create confusion matrix\n",
    "cm = confusion_matrix(y_test, dummy_test_pred)\n",
    "# Calculate metrics\n",
    "TN = cm[1,1]\n",
    "TP = cm[0,0]\n",
    "FP = cm[0,1]\n",
    "FN = cm[1,0]\n",
    "\n",
    "print(\"\\nDummy Confusion Matrix:\")\n",
    "sns.heatmap(cm, annot=True, fmt=\"d\", cmap='coolwarm', xticklabels=['Alive', 'Dead'], yticklabels=['Alive', 'Dead'])\n",
    "plt.title(\"Dummy Classifier Confusion Matrix\")\n",
    "plt.xlabel(\"Predicted Label\")\n",
    "plt.ylabel(\"True Label\")\n",
    "plt.show()\n",
    "print(f\"\\nTrue Positives (correctly predicted alive): {TP}\")\n",
    "print(f\"False Positives (Incorrectly predicted alive): {FP}\")\n",
    "print(f\"True Negatives (correctly predicted dead): {TN}\")\n",
    "print(f\"False Negatives (incorrectly predicted dead): {FN}\")"
   ]
  },
  {
   "cell_type": "markdown",
   "id": "e3445d23",
   "metadata": {},
   "source": [
    "# Step 8: ROCs and AUCs\n",
    "Our two models have similar accuracy, but is that all there is to this story?  Let's dig a little deeper on the comparison of our logistic and dummy classifiers by examining the associated receiver-operator characteristic (ROC) curves. Calculate the area under the curve (AUC) for both models."
   ]
  },
  {
   "cell_type": "code",
   "execution_count": 11,
   "id": "cef8515b",
   "metadata": {
    "tags": []
   },
   "outputs": [
    {
     "name": "stdout",
     "output_type": "stream",
     "text": [
      "Logistic AUC:  0.9021\n"
     ]
    }
   ],
   "source": [
    "# Logistic classifier AUC\n",
    "y_pred_proba = classifier.predict_proba(X_test_scaled)[:,1]\n",
    "roc_auc = roc_auc_score(y_test, y_pred_proba)\n",
    "print(f\"Logistic AUC: {roc_auc: .4f}\")"
   ]
  },
  {
   "cell_type": "code",
   "execution_count": 12,
   "id": "5180e8b8",
   "metadata": {
    "tags": []
   },
   "outputs": [
    {
     "name": "stdout",
     "output_type": "stream",
     "text": [
      "Dummy AUC: 0.5000\n"
     ]
    }
   ],
   "source": [
    "# Dummy classifier AUC\n",
    "dummy_pred_proba = dummy_classifier.predict_proba(X_test_scaled)[:,1]\n",
    "dummy_roc_auc = roc_auc_score(y_test, dummy_pred_proba)\n",
    "print(f\"Dummy AUC: {dummy_roc_auc:.4f}\")"
   ]
  },
  {
   "cell_type": "markdown",
   "id": "4acd252f",
   "metadata": {},
   "source": [
    "# Step 9: Plot dummy and logistic model ROC curves\n",
    "Now using the outputs from `roc_curve()`, plot the ROC curves for both models on the same plot.  Make sure to use appropriate labels in the legend."
   ]
  },
  {
   "cell_type": "code",
   "execution_count": 13,
   "id": "03a7fe29",
   "metadata": {
    "tags": []
   },
   "outputs": [
    {
     "data": {
      "image/png": "[encoded data removed]",
      "text/plain": [
       "<Figure size 800x600 with 1 Axes>"
      ]
     },
     "metadata": {},
     "output_type": "display_data"
    }
   ],
   "source": [
    "# Get ROC data for both model\n",
    "fpr, tpr, _= roc_curve(y_test, y_pred_proba)\n",
    "fpr_dummy, tpr_dummy, _=roc_curve(y_test, dummy_pred_proba)\n",
    "\n",
    "# Plot curves together\n",
    "plt.figure(figsize=(8,6))\n",
    "\n",
    "# Logistic curve\n",
    "plt.plot(fpr, tpr, color='darkorange', lw=2, label=f'Logisitic ROC Curve (AUC = {roc_auc:.2f})')\n",
    "# Dummy curve\n",
    "plt.plot(fpr_dummy, tpr_dummy, color='blue', lw=2, label=f'Dummy ROC Curve (AUC = {dummy_roc_auc:.2f})')\n",
    "\n",
    "plt.title('ROC Curve: Alive Tree Presence Prediction')\n",
    "plt.ylabel('True Positive Rate')\n",
    "plt.xlabel('False Positive Rate')\n",
    "plt.legend()\n",
    "plt.grid(True)\n",
    "plt.show()"
   ]
  },
  {
   "cell_type": "markdown",
   "id": "ec104e80",
   "metadata": {},
   "source": [
    "How do the two models compare on AUC?  What are the implications for evaluating classifiers based on accuracy of their predictions?"
   ]
  },
  {
   "cell_type": "markdown",
   "id": "a4ab1a30",
   "metadata": {},
   "source": [
    "The Area Under the Curve (AUC) for logistic classifier is 0.90, much higher than dummy classifier's AUC (0.5). The illustrates the limitation of using only accuracy to evaluate a model. "
   ]
  },
  {
   "cell_type": "markdown",
   "id": "d1767d77",
   "metadata": {},
   "source": [
    "# Step 10: Final interpretation\n",
    "\n",
    "Identifying the most important features in a model can guide decision-making. For instance, in our dataset, highly important features might indicate key factors affecting tree survival after a fire. We will calculate the feature importance by examining the coefficients of our logistic regression model."
   ]
  },
  {
   "cell_type": "code",
   "execution_count": 14,
   "id": "e0a97e03",
   "metadata": {
    "tags": []
   },
   "outputs": [
    {
     "name": "stdout",
     "output_type": "stream",
     "text": [
      "               Coefficients\n",
      "CR_post           -2.268484\n",
      "HT_m              -0.996278\n",
      "YrFireName        -0.133544\n",
      "Times_burned       0.000000\n",
      "CR_pre             0.026231\n",
      "Species            0.180301\n",
      "Genus_species      0.180301\n",
      "DBH_cm             0.413430\n"
     ]
    }
   ],
   "source": [
    "# Create a data frame for feature anmes and importance\n",
    "importance_df = pd.DataFrame({'Coefficients': classifier.coef_[0]}, index=X.columns).sort_values(by='Coefficients')\n",
    "\n",
    "# Print the sorted feature importance\n",
    "print(importance_df)"
   ]
  },
  {
   "cell_type": "markdown",
   "id": "55d9db5d",
   "metadata": {},
   "source": [
    "Which are the most important features in our model (reference the metadata to help answer this)? Can you think of any implications for forest management or conservation strategy?"
   ]
  },
  {
   "cell_type": "markdown",
   "id": "bd42e56c",
   "metadata": {},
   "source": [
    "The most important features influencing tree survival after fire are post-fire crown ratio (CR_post, -2.27) and tree height (HT_m, -0.99), indicating that trees with more remaining crown and greater height are more likely to survive. This suggests that forest management should prioritize maintaining fire-resilient trees by focusing on those with high crown retention and favoring taller individuals during thinning."
   ]
  }
 ],
 "metadata": {
  "kernelspec": {
   "display_name": "Anaconda 3 (EDS232)",
   "language": "python",
   "name": "ml-env"
  },
  "language_info": {
   "codemirror_mode": {
    "name": "ipython",
    "version": 3
   },
   "file_extension": ".py",
   "mimetype": "text/x-python",
   "name": "python",
   "nbconvert_exporter": "python",
   "pygments_lexer": "ipython3",
   "version": "3.10.16"
  }
 },
 "nbformat": 4,
 "nbformat_minor": 5
}
