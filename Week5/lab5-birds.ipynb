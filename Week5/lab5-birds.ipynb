{
 "cells": [
  {
   "cell_type": "markdown",
   "metadata": {},
   "source": [
    "# Lab 5: Species Distribution Modeling with Bagging \n",
    "Climate change and deforestation are accelerating ecosystem degradation, pushing animal species toward the brink of extinction. Understanding the distribution of animals and the factors that influence their ability to thrive in different environments is critical for conservation efforts. By studying these relationships, biological conservationists can develop informed strategies to protect endangered species and maintain biodiversity across diverse ecosystems.\n",
    "\n",
    "Species are defined by their behavioral, physiological, and ecological attributes, which shape their roles in ecosystems. In turn, ecosystems and their functions are deeply influenced by the species that inhabit them. This reciprocal relationship makes evaluating species' functional diversity and distributions essential for research in biogeography, community ecology, macroevolution, and conservation. Functional diversity is determined by traits such as diet, foraging strata, trophic level, activity cycle, litter size, generation length, habitat breadth, and body mass. These traits influence an animal’s ability to survive and adapt to different climates, playing a crucial role in ecosystem stability.\n",
    "\n",
    "In this lab, we will explore the connections between animal behaviors, functional traits, and species distributions across different climates."
   ]
  },
  {
   "cell_type": "code",
   "execution_count": 6,
   "metadata": {
    "tags": []
   },
   "outputs": [],
   "source": [
    "import pandas as pd\n",
    "import matplotlib.pyplot as plt\n",
    "import seaborn as sns\n",
    "from sklearn.ensemble import BaggingClassifier\n",
    "from sklearn.model_selection import train_test_split\n",
    "from sklearn.metrics import accuracy_score, roc_curve, auc,roc_auc_score\n",
    "from sklearn.preprocessing import StandardScaler, LabelEncoder\n",
    "from sklearn.inspection import permutation_importance\n",
    "from sklearn.utils import resample, shuffle\n",
    "import numpy as np\n",
    "from sklearn.impute import SimpleImputer, KNNImputer\n",
    "\n",
    "# Expand dataframe columns and look at view dataframe\n",
    "pd.set_option('display.max_columns', None)"
   ]
  },
  {
   "cell_type": "markdown",
   "metadata": {},
   "source": [
    "### Step 1: Standardizing column names\n",
    "\n",
    "The dataset contains several columns that describe different aspects of bird diets. These column names currently include spaces, colons (:), and special characters, which can make them difficult to work with in code.\n",
    "\n",
    "Load the dataset (BirdTraitData.csv) into a Pandas DataFrame.\n",
    "\n",
    "The 7 column names that start with \"Diet:\" should be renamed to simpler version starting with `Diet_` in a way that conforms with this list of key variables:\n",
    "\n",
    "`AdultBodyMass`, `DietBreadth`, `Diet_Invertebrates`, `Diet_Vertebrates`,`Diet_Fruits`, `Diet_Flowers`, `Diet_Seeds`, `Diet_Plants`, `Diet_Other`, `TrophicLevel`,`ActivityCycle`, `ForagingStratum`, `MigratoryStatus`,`IncubationTime`, `ClutchSize`, `EggLength`, `EggWidth`,`EggMass`, `NestingHabit`,`MaxLongevity`, `Subarid`\n",
    "\n",
    "Then select only that list of 21 key variables. **Print the head of your dataframe.** "
   ]
  },
  {
   "cell_type": "code",
   "execution_count": 7,
   "metadata": {
    "tags": []
   },
   "outputs": [
    {
     "data": {
      "text/plain": [
       "Order                   object\n",
       "Family                  object\n",
       "Genus                   object\n",
       "Species                 object\n",
       "Authority               object\n",
       "CommonName              object\n",
       "AdultBodyMass          float64\n",
       "DietBreadth            float64\n",
       "Diet_Invertebrates      object\n",
       "Diet_Vertebrates        object\n",
       "Diet_Fruits             object\n",
       "Diet_Flowers            object\n",
       "Diet_seeds              object\n",
       "Diet_Plants             object\n",
       "Diet_Other              object\n",
       "TrophicLevel           float64\n",
       "ActivityCycle          float64\n",
       "ForagingStratum        float64\n",
       "MigratoryStatus         object\n",
       "IncubationTime         float64\n",
       "ClutchSize             float64\n",
       "EggLength              float64\n",
       "EggWidth               float64\n",
       "EggMass                float64\n",
       "NestingHabit            object\n",
       "MaxLongevity           float64\n",
       "Dry                      int64\n",
       "Humid                    int64\n",
       "Montane                  int64\n",
       "Subarid                  int64\n",
       "Subhumid                 int64\n",
       "Alaotra.Mangoro          int64\n",
       "Amoron.i.Mania           int64\n",
       "Analamanga               int64\n",
       "Analanjirofo             int64\n",
       "Androy                   int64\n",
       "Anosy                    int64\n",
       "Atsimo.Andrefana         int64\n",
       "Atsimo.Atsinanana        int64\n",
       "Atsinanana               int64\n",
       "Betsiboka                int64\n",
       "Boeny                    int64\n",
       "Bongolava                int64\n",
       "DIANA                    int64\n",
       "Haute.Matsiatra          int64\n",
       "Ihorombe                 int64\n",
       "Itasy                    int64\n",
       "Melaky                   int64\n",
       "Menabe                   int64\n",
       "SAVA                     int64\n",
       "Sofia                    int64\n",
       "Vakinankaratra           int64\n",
       "Vatovavy.Fitovinany      int64\n",
       "Antananarivo             int64\n",
       "Antsiranana              int64\n",
       "Fianarantsoa             int64\n",
       "Mahajanga                int64\n",
       "Toamasina                int64\n",
       "Toliara                  int64\n",
       "References              object\n",
       "dtype: object"
      ]
     },
     "execution_count": 7,
     "metadata": {},
     "output_type": "execute_result"
    }
   ],
   "source": [
    "# Load in data\n",
    "df = pd.read_csv(\"BirdTraitData.csv\", encoding='unicode_escape', na_values=[-999])\n",
    "#df.dtypes\n",
    "\n",
    "# Clean column names\n",
    "df.columns = df.columns.str.replace(': ', '_').str.replace(' ', '_').str.replace(';', '')\n",
    "# Rename columns\n",
    "df = df.rename(columns={'Diet_flower/nectar/pollen/gums': 'Diet_Flowers', 'Diet_other_plant_materials':'Diet_Plants', 'Diet_scavenge_garbage_carrion_offal_carcasses':'Diet_Other',\n",
    "                       'Diet_invertebrates': 'Diet_Invertebrates','Diet_vertebrates':'Diet_Vertebrates', 'Diet_fruits':'Diet_Fruits'})\n",
    "\n",
    "df.dtypes"
   ]
  },
  {
   "cell_type": "code",
   "execution_count": 8,
   "metadata": {
    "tags": []
   },
   "outputs": [
    {
     "data": {
      "text/html": [
       "<div>\n",
       "<style scoped>\n",
       "    .dataframe tbody tr th:only-of-type {\n",
       "        vertical-align: middle;\n",
       "    }\n",
       "\n",
       "    .dataframe tbody tr th {\n",
       "        vertical-align: top;\n",
       "    }\n",
       "\n",
       "    .dataframe thead th {\n",
       "        text-align: right;\n",
       "    }\n",
       "</style>\n",
       "<table border=\"1\" class=\"dataframe\">\n",
       "  <thead>\n",
       "    <tr style=\"text-align: right;\">\n",
       "      <th></th>\n",
       "      <th>AdultBodyMass</th>\n",
       "      <th>DietBreadth</th>\n",
       "      <th>Diet_Invertebrates</th>\n",
       "      <th>Diet_Vertebrates</th>\n",
       "      <th>Diet_Fruits</th>\n",
       "      <th>Diet_Flowers</th>\n",
       "      <th>Diet_seeds</th>\n",
       "      <th>Diet_Plants</th>\n",
       "      <th>Diet_Other</th>\n",
       "      <th>TrophicLevel</th>\n",
       "      <th>ActivityCycle</th>\n",
       "      <th>ForagingStratum</th>\n",
       "      <th>MigratoryStatus</th>\n",
       "      <th>IncubationTime</th>\n",
       "      <th>ClutchSize</th>\n",
       "      <th>EggLength</th>\n",
       "      <th>EggWidth</th>\n",
       "      <th>EggMass</th>\n",
       "      <th>NestingHabit</th>\n",
       "      <th>MaxLongevity</th>\n",
       "      <th>Subarid</th>\n",
       "    </tr>\n",
       "  </thead>\n",
       "  <tbody>\n",
       "    <tr>\n",
       "      <th>0</th>\n",
       "      <td>138.5</td>\n",
       "      <td>2.0</td>\n",
       "      <td>yes</td>\n",
       "      <td>yes</td>\n",
       "      <td>no</td>\n",
       "      <td>no</td>\n",
       "      <td>no</td>\n",
       "      <td>no</td>\n",
       "      <td>no</td>\n",
       "      <td>3.0</td>\n",
       "      <td>3.0</td>\n",
       "      <td>3.0</td>\n",
       "      <td>no</td>\n",
       "      <td>31.0</td>\n",
       "      <td>3.0</td>\n",
       "      <td>3.85</td>\n",
       "      <td>NaN</td>\n",
       "      <td>NaN</td>\n",
       "      <td>arboreal</td>\n",
       "      <td>NaN</td>\n",
       "      <td>1</td>\n",
       "    </tr>\n",
       "    <tr>\n",
       "      <th>1</th>\n",
       "      <td>1050.0</td>\n",
       "      <td>1.0</td>\n",
       "      <td>no</td>\n",
       "      <td>yes</td>\n",
       "      <td>no</td>\n",
       "      <td>no</td>\n",
       "      <td>no</td>\n",
       "      <td>no</td>\n",
       "      <td>no</td>\n",
       "      <td>3.0</td>\n",
       "      <td>2.0</td>\n",
       "      <td>3.0</td>\n",
       "      <td>no</td>\n",
       "      <td>39.5</td>\n",
       "      <td>2.5</td>\n",
       "      <td>58.50</td>\n",
       "      <td>46.95</td>\n",
       "      <td>NaN</td>\n",
       "      <td>arboreal</td>\n",
       "      <td>NaN</td>\n",
       "      <td>1</td>\n",
       "    </tr>\n",
       "    <tr>\n",
       "      <th>2</th>\n",
       "      <td>181.0</td>\n",
       "      <td>2.0</td>\n",
       "      <td>yes</td>\n",
       "      <td>yes</td>\n",
       "      <td>no</td>\n",
       "      <td>no</td>\n",
       "      <td>no</td>\n",
       "      <td>no</td>\n",
       "      <td>no</td>\n",
       "      <td>3.0</td>\n",
       "      <td>3.0</td>\n",
       "      <td>3.0</td>\n",
       "      <td>no</td>\n",
       "      <td>35.0</td>\n",
       "      <td>2.5</td>\n",
       "      <td>38.35</td>\n",
       "      <td>31.90</td>\n",
       "      <td>NaN</td>\n",
       "      <td>arboreal</td>\n",
       "      <td>NaN</td>\n",
       "      <td>1</td>\n",
       "    </tr>\n",
       "  </tbody>\n",
       "</table>\n",
       "</div>"
      ],
      "text/plain": [
       "   AdultBodyMass  DietBreadth Diet_Invertebrates Diet_Vertebrates Diet_Fruits  \\\n",
       "0          138.5          2.0                yes              yes          no   \n",
       "1         1050.0          1.0                 no              yes          no   \n",
       "2          181.0          2.0                yes              yes          no   \n",
       "\n",
       "  Diet_Flowers Diet_seeds Diet_Plants Diet_Other  TrophicLevel  ActivityCycle  \\\n",
       "0           no         no          no         no           3.0            3.0   \n",
       "1           no         no          no         no           3.0            2.0   \n",
       "2           no         no          no         no           3.0            3.0   \n",
       "\n",
       "   ForagingStratum MigratoryStatus  IncubationTime  ClutchSize  EggLength  \\\n",
       "0              3.0              no            31.0         3.0       3.85   \n",
       "1              3.0              no            39.5         2.5      58.50   \n",
       "2              3.0              no            35.0         2.5      38.35   \n",
       "\n",
       "   EggWidth  EggMass NestingHabit  MaxLongevity  Subarid  \n",
       "0       NaN      NaN     arboreal           NaN        1  \n",
       "1     46.95      NaN     arboreal           NaN        1  \n",
       "2     31.90      NaN     arboreal           NaN        1  "
      ]
     },
     "execution_count": 8,
     "metadata": {},
     "output_type": "execute_result"
    }
   ],
   "source": [
    "# Select columns\n",
    "bird = df[['AdultBodyMass', 'DietBreadth', 'Diet_Invertebrates', 'Diet_Vertebrates','Diet_Fruits', \n",
    "           'Diet_Flowers', 'Diet_seeds', 'Diet_Plants', 'Diet_Other', 'TrophicLevel','ActivityCycle',\n",
    "           'ForagingStratum', 'MigratoryStatus','IncubationTime', 'ClutchSize', 'EggLength', 'EggWidth',\n",
    "           'EggMass', 'NestingHabit','MaxLongevity', 'Subarid']]\n",
    "bird.head(3)\n",
    "#df.shape"
   ]
  },
  {
   "cell_type": "markdown",
   "metadata": {},
   "source": [
    "### Step 2: Encode categorical variables\n",
    "In our dataset, some columns contain categorical (non-numeric) data, such as species names or habitat types that need to be converted to numerical representations. Let's use label encoding to assign a unique number to each category in a column.\n",
    "\n",
    "Encode the data using this process:\n",
    "\n",
    "0. impute data to handle missing av\n",
    "1. Find all categorical columns in df using `.select_dtypes(include=['object'])`\n",
    "2. Loop through each categorical column and apply `LabelEncoder()`\n",
    "3. Replace the original categorical columns with their encoded values.\n",
    "4. Print the head of your dataframe to ensure that labels were in fact encoded. \n",
    "\n"
   ]
  },
  {
   "cell_type": "code",
   "execution_count": 10,
   "metadata": {
    "tags": []
   },
   "outputs": [
    {
     "data": {
      "text/plain": [
       "AdultBodyMass         0\n",
       "DietBreadth           0\n",
       "Diet_Invertebrates    0\n",
       "Diet_Vertebrates      0\n",
       "Diet_Fruits           0\n",
       "Diet_Flowers          0\n",
       "Diet_seeds            0\n",
       "Diet_Plants           0\n",
       "Diet_Other            0\n",
       "TrophicLevel          0\n",
       "ActivityCycle         0\n",
       "ForagingStratum       0\n",
       "MigratoryStatus       0\n",
       "IncubationTime        0\n",
       "ClutchSize            0\n",
       "EggLength             0\n",
       "EggWidth              0\n",
       "EggMass               0\n",
       "NestingHabit          0\n",
       "MaxLongevity          0\n",
       "Subarid               0\n",
       "dtype: int64"
      ]
     },
     "execution_count": 10,
     "metadata": {},
     "output_type": "execute_result"
    }
   ],
   "source": [
    "# Check for missing values\n",
    "bird.isna().sum()\n",
    "\n",
    "# Impute with mode\n",
    "bird_impute = bird.fillna(bird.mode().iloc[0])\n",
    "\n",
    "# Check to make sure there are no NAs\n",
    "bird_impute.isna().sum()"
   ]
  },
  {
   "cell_type": "code",
   "execution_count": 18,
   "metadata": {
    "tags": []
   },
   "outputs": [
    {
     "data": {
      "text/plain": [
       "(242, 21)"
      ]
     },
     "execution_count": 18,
     "metadata": {},
     "output_type": "execute_result"
    }
   ],
   "source": [
    "# initialize columns\n",
    "encoded_columns = {}\n",
    "\n",
    "for column in bird_impute.select_dtypes(include=['object','bool']).columns:\n",
    "    encoder = LabelEncoder()\n",
    "    encoded_columns[column] = encoder.fit_transform(bird_impute[column])\n",
    "\n",
    "for column, encoded_values in encoded_columns.items():\n",
    "    bird_impute[column] = encoded_values\n",
    "\n",
    "bird_impute.shape"
   ]
  },
  {
   "cell_type": "markdown",
   "metadata": {},
   "source": [
    "### Step 3: Defining features, splitting data, and training a bagging classifier\n",
    "Our goal for this analysis is to predict whether a given bird species is present in Subarid climate zones. \n",
    "\n",
    "1. Drop the corresponding variable from the features (X) and define it as the target (y). Then perform the train-test split with 70/30 train/test and a random state of 808.\n",
    "\n",
    "2. Initialize a bagging classifier with 100 trees, `oob_score =True`, `bootstrap = True` and `random_state = 808`.  \n",
    "\n",
    "3. Train the model."
   ]
  },
  {
   "cell_type": "code",
   "execution_count": 19,
   "metadata": {
    "tags": []
   },
   "outputs": [
    {
     "data": {
      "text/html": [
       "<style>#sk-container-id-2 {color: black;}#sk-container-id-2 pre{padding: 0;}#sk-container-id-2 div.sk-toggleable {background-color: white;}#sk-container-id-2 label.sk-toggleable__label {cursor: pointer;display: block;width: 100%;margin-bottom: 0;padding: 0.3em;box-sizing: border-box;text-align: center;}#sk-container-id-2 label.sk-toggleable__label-arrow:before {content: \"▸\";float: left;margin-right: 0.25em;color: #696969;}#sk-container-id-2 label.sk-toggleable__label-arrow:hover:before {color: black;}#sk-container-id-2 div.sk-estimator:hover label.sk-toggleable__label-arrow:before {color: black;}#sk-container-id-2 div.sk-toggleable__content {max-height: 0;max-width: 0;overflow: hidden;text-align: left;background-color: #f0f8ff;}#sk-container-id-2 div.sk-toggleable__content pre {margin: 0.2em;color: black;border-radius: 0.25em;background-color: #f0f8ff;}#sk-container-id-2 input.sk-toggleable__control:checked~div.sk-toggleable__content {max-height: 200px;max-width: 100%;overflow: auto;}#sk-container-id-2 input.sk-toggleable__control:checked~label.sk-toggleable__label-arrow:before {content: \"▾\";}#sk-container-id-2 div.sk-estimator input.sk-toggleable__control:checked~label.sk-toggleable__label {background-color: #d4ebff;}#sk-container-id-2 div.sk-label input.sk-toggleable__control:checked~label.sk-toggleable__label {background-color: #d4ebff;}#sk-container-id-2 input.sk-hidden--visually {border: 0;clip: rect(1px 1px 1px 1px);clip: rect(1px, 1px, 1px, 1px);height: 1px;margin: -1px;overflow: hidden;padding: 0;position: absolute;width: 1px;}#sk-container-id-2 div.sk-estimator {font-family: monospace;background-color: #f0f8ff;border: 1px dotted black;border-radius: 0.25em;box-sizing: border-box;margin-bottom: 0.5em;}#sk-container-id-2 div.sk-estimator:hover {background-color: #d4ebff;}#sk-container-id-2 div.sk-parallel-item::after {content: \"\";width: 100%;border-bottom: 1px solid gray;flex-grow: 1;}#sk-container-id-2 div.sk-label:hover label.sk-toggleable__label {background-color: #d4ebff;}#sk-container-id-2 div.sk-serial::before {content: \"\";position: absolute;border-left: 1px solid gray;box-sizing: border-box;top: 0;bottom: 0;left: 50%;z-index: 0;}#sk-container-id-2 div.sk-serial {display: flex;flex-direction: column;align-items: center;background-color: white;padding-right: 0.2em;padding-left: 0.2em;position: relative;}#sk-container-id-2 div.sk-item {position: relative;z-index: 1;}#sk-container-id-2 div.sk-parallel {display: flex;align-items: stretch;justify-content: center;background-color: white;position: relative;}#sk-container-id-2 div.sk-item::before, #sk-container-id-2 div.sk-parallel-item::before {content: \"\";position: absolute;border-left: 1px solid gray;box-sizing: border-box;top: 0;bottom: 0;left: 50%;z-index: -1;}#sk-container-id-2 div.sk-parallel-item {display: flex;flex-direction: column;z-index: 1;position: relative;background-color: white;}#sk-container-id-2 div.sk-parallel-item:first-child::after {align-self: flex-end;width: 50%;}#sk-container-id-2 div.sk-parallel-item:last-child::after {align-self: flex-start;width: 50%;}#sk-container-id-2 div.sk-parallel-item:only-child::after {width: 0;}#sk-container-id-2 div.sk-dashed-wrapped {border: 1px dashed gray;margin: 0 0.4em 0.5em 0.4em;box-sizing: border-box;padding-bottom: 0.4em;background-color: white;}#sk-container-id-2 div.sk-label label {font-family: monospace;font-weight: bold;display: inline-block;line-height: 1.2em;}#sk-container-id-2 div.sk-label-container {text-align: center;}#sk-container-id-2 div.sk-container {/* jupyter's `normalize.less` sets `[hidden] { display: none; }` but bootstrap.min.css set `[hidden] { display: none !important; }` so we also need the `!important` here to be able to override the default hidden behavior on the sphinx rendered scikit-learn.org. See: https://github.com/scikit-learn/scikit-learn/issues/21755 */display: inline-block !important;position: relative;}#sk-container-id-2 div.sk-text-repr-fallback {display: none;}</style><div id=\"sk-container-id-2\" class=\"sk-top-container\"><div class=\"sk-text-repr-fallback\"><pre>BaggingClassifier(n_estimators=100, oob_score=True, random_state=808)</pre><b>In a Jupyter environment, please rerun this cell to show the HTML representation or trust the notebook. <br />On GitHub, the HTML representation is unable to render, please try loading this page with nbviewer.org.</b></div><div class=\"sk-container\" hidden><div class=\"sk-item\"><div class=\"sk-estimator sk-toggleable\"><input class=\"sk-toggleable__control sk-hidden--visually\" id=\"sk-estimator-id-2\" type=\"checkbox\" checked><label for=\"sk-estimator-id-2\" class=\"sk-toggleable__label sk-toggleable__label-arrow\">BaggingClassifier</label><div class=\"sk-toggleable__content\"><pre>BaggingClassifier(n_estimators=100, oob_score=True, random_state=808)</pre></div></div></div></div></div>"
      ],
      "text/plain": [
       "BaggingClassifier(n_estimators=100, oob_score=True, random_state=808)"
      ]
     },
     "execution_count": 19,
     "metadata": {},
     "output_type": "execute_result"
    }
   ],
   "source": [
    "# Define the target variable as \"Subarid\"\n",
    "y = bird_impute['Subarid']\n",
    "# Define the feature variables\n",
    "X = bird_impute.drop('Subarid', axis=1)\n",
    "\n",
    "# Split data with 70/30 train/test and random state of 808\n",
    "X_train, X_test, y_train, y_test = train_test_split(X, y, test_size = 0.3, random_state = 808)\n",
    "\n",
    "# should i scale? \n",
    "# Scale our X data\n",
    "#scaler = StandardScaler()\n",
    "#X_train_scaled = scaler.fit_transform(X_train)\n",
    "#X_test_scaled = scaler.transform(X_test)\n",
    "\n",
    "# initialize bagging classifier\n",
    "bagging = BaggingClassifier(\n",
    "    #estimator = DecisionTreeClassifier(),\n",
    "    n_estimators = 100, # Number of trees in bag\n",
    "    oob_score = True,\n",
    "    bootstrap = True,\n",
    "    random_state = 808\n",
    ")\n",
    "# train the model\n",
    "bagging.fit(X_train, y_train)"
   ]
  },
  {
   "cell_type": "markdown",
   "metadata": {},
   "source": [
    "### Step 4: Make predictions and evaluate the model\n",
    "\n",
    "1. Generate predictions\n",
    "- Use the trained bagging model to predict values for the test set (`X_test`).\n",
    "\n",
    "2. Calculate the Out-of-Bag (OOB) Score\n",
    "- The OOB score is an internal validation score computed using samples not included in bootstrapped subsets.\n",
    "\n",
    "3. Compute model accuracy\n",
    "- Print the OOB score and the bagging accuracy score."
   ]
  },
  {
   "cell_type": "code",
   "execution_count": 20,
   "metadata": {
    "tags": []
   },
   "outputs": [
    {
     "name": "stdout",
     "output_type": "stream",
     "text": [
      "Bagging Out-of-Bag (OOB): 0.858;\n",
      "Bagging Accuracy:  0.932\n"
     ]
    }
   ],
   "source": [
    "# Generate predictions\n",
    "#bagging_train_preds = bagging.predict(X_train_scaled)\n",
    "y_preds = bagging.predict(X_test)\n",
    "y_proba = bagging.predict_proba(X_test)[:,1]\n",
    "# Calculate the OOB score\n",
    "oob_error = 1 - bagging.oob_score_\n",
    "# Calculate bagging accuracy score\n",
    "bagging_accuracy = accuracy_score(y_test, y_preds)\n",
    "\n",
    "# Print and compare\n",
    "print(f\"Bagging Out-of-Bag (OOB):{bagging.oob_score_: .3f};\\nBagging Accuracy: {bagging_accuracy: .3f}\")"
   ]
  },
  {
   "cell_type": "markdown",
   "metadata": {},
   "source": [
    "The OOB socre is calculated using out-of-bag samples and is a measure of the model's performance on unseen data. The accuracy score, on the other hand, is a measure of the model's performance on a validation dataset, which is a set of samples that the model has not seen during training. "
   ]
  },
  {
   "cell_type": "markdown",
   "metadata": {},
   "source": [
    "### Step 5: Calculate and plot ROC curve\n",
    "\n",
    "- Use `label=f\"Bagging (AUC = {roc_auc_bagging:.2f})\"` to include the AUC value in the plot."
   ]
  },
  {
   "cell_type": "code",
   "execution_count": 21,
   "metadata": {
    "tags": []
   },
   "outputs": [
    {
     "data": {
      "image/png": "[encoded data removed]",
      "text/plain": [
       "<Figure size 800x600 with 1 Axes>"
      ]
     },
     "metadata": {},
     "output_type": "display_data"
    }
   ],
   "source": [
    "# Calculate the ROC curve \n",
    "fpr, tpr, thresholds = roc_curve(y_test, y_proba)\n",
    "roc_auc_bagging = roc_auc_score(y_test, y_proba)\n",
    "\n",
    "# Plot curves together\n",
    "plt.figure(figsize=(8,6))\n",
    "\n",
    "# Logistic curve\n",
    "plt.plot(fpr, tpr, color='darkorange', lw=2, label=f'Bagging ROC Curve (AUC = {roc_auc_bagging:.2f})')\n",
    "\n",
    "plt.title('ROC Curve: Species Presence Prediction')\n",
    "plt.ylabel('True Positive Rate')\n",
    "plt.xlabel('False Positive Rate')\n",
    "plt.legend()\n",
    "plt.grid(True)\n",
    "plt.show()"
   ]
  },
  {
   "cell_type": "markdown",
   "metadata": {},
   "source": [
    "Now how does the ROC curve look? How does this compare to our classification accuracy metric?  What might be going on? "
   ]
  },
  {
   "cell_type": "markdown",
   "metadata": {},
   "source": [
    "Our model have high accuracy but a low ROC-AUC score. This situation happens in imbalanced data sets where the model may only predict the majority class well but not distinguish between positive and negative classes."
   ]
  },
  {
   "cell_type": "markdown",
   "metadata": {},
   "source": [
    "### Step 6: Introducing upsampling\n",
    "\n",
    "The ROC curve indicates that our model is not performing well.  This is a common issue in imbalanced datasets, where one class significantly outnumbers the other. To improve our model’s ability to correctly classify both groups, we will upsample the minority class so that both classes have equal representation in the training set.\n",
    "\n",
    "**Perform upsampling to balance the dataset**\n",
    "1. Separate the majority and minority classes:\n",
    "- Identify which class (0,1) is underrepresented (the minority class) and which is overrepresented (the majority class). \n",
    "- Separate both the `X_train` data and `y_train` data into all majority class and all minority class sets. \n",
    "2. Apply upsampling:\n",
    "- Use `resample()` to create additional synthetic samples of the minority class *with replacement* until it is the same size as the majority class data. Use a random state of 808. \n",
    "3. Combine the balanced classes:\n",
    "Merge the original majority class with the newly upsampled minority class.\n",
    "4. Shuffle the resampled dataset:\n",
    "- Randomly shuffle the data to ensure the model does not learn any unintended patterns from the order of the data. Use a random state of 808 for shuffling both the resampled X and y training data. \n",
    "5. Print the value counts for the resampled y training data to ensure that the data is balanced. \n"
   ]
  },
  {
   "cell_type": "code",
   "execution_count": 24,
   "metadata": {
    "tags": []
   },
   "outputs": [
    {
     "data": {
      "text/plain": [
       "Subarid\n",
       "1    217\n",
       "0     25\n",
       "Name: count, dtype: int64"
      ]
     },
     "execution_count": 24,
     "metadata": {},
     "output_type": "execute_result"
    }
   ],
   "source": [
    "# Find class imbalance\n",
    "bird_impute['Subarid'].value_counts()\n"
   ]
  },
  {
   "cell_type": "code",
   "execution_count": 25,
   "metadata": {
    "tags": []
   },
   "outputs": [
    {
     "name": "stdout",
     "output_type": "stream",
     "text": [
      "Class distribution in balanced dataset:\n",
      "Subarid\n",
      "0    159\n",
      "1    141\n",
      "Name: count, dtype: int64\n"
     ]
    }
   ],
   "source": [
    "# Separate majority and minority classes\n",
    "X_train_majority = X_train[y_train == 1]\n",
    "X_train_minority = X_train[y_train == 0]\n",
    "y_train_majority = y_train[y_train == 1]\n",
    "y_train_minority = y_train[y_train == 0]\n",
    "\n",
    "# Upsample the minority class\n",
    "X_train_minority_up = resample(X_train_minority, \n",
    "                                random_state = 808,\n",
    "                                n_samples=len(X_train_majority), \n",
    "                                replace=True)\n",
    "                                             \n",
    "y_train_minority_up = resample(y_train_minority, \n",
    "                                random_state = 808,\n",
    "                                n_samples=len(X_train_majority), \n",
    "                                replace=True)\n",
    "                                             \n",
    "# Combine majority and upsampled minority classes\n",
    "X_train_balanced = pd.concat([X_train_majority, X_train_minority_up])\n",
    "y_train_balanced = pd.concat([y_train_majority, y_train_minority_up])\n",
    "\n",
    "# Shuffle the dataset # initially used shuffle()but that messed up the model\n",
    "X_train_balanced = resample(X_train_balanced, random_state=808)\n",
    "y_train_balanced = resample(y_train_balanced, random_state=808)\n",
    "\n",
    "# Print value counts \n",
    "print(f\"Class distribution in balanced dataset:\\n{y_train_balanced.value_counts()}\")\n",
    " "
   ]
  },
  {
   "cell_type": "markdown",
   "metadata": {},
   "source": [
    "### Step 7: Retrain and evaluate model using balanced data\n",
    "\n",
    "Now that we have addressed the class imbalance by upsampling the minority class, we will retrain the bagging classifier on the newly balanced dataset and evaluate its performance. This will help us determine whether handling class imbalance improves model accuracy and its ability to distinguish between classes. Create a bagging model using your balanced data. Use a random state of 808. Print the accuracy and and ROC Curve for this new model with balanced data. "
   ]
  },
  {
   "cell_type": "code",
   "execution_count": 26,
   "metadata": {
    "tags": []
   },
   "outputs": [
    {
     "name": "stdout",
     "output_type": "stream",
     "text": [
      "Bagging Out-of-Bag (OOB): 0.963;\n",
      "Bagging Accuracy:  0.808\n"
     ]
    },
    {
     "data": {
      "image/png": "[encoded data removed]",
      "text/plain": [
       "<Figure size 800x600 with 1 Axes>"
      ]
     },
     "metadata": {},
     "output_type": "display_data"
    }
   ],
   "source": [
    "# initialize bagging classifier\n",
    "bagging_2 = BaggingClassifier(\n",
    "    #estimator = DecisionTreeClassifier(),\n",
    "    n_estimators = 100, # Number of trees in bag\n",
    "    oob_score = True,\n",
    "    bootstrap = True,\n",
    "    random_state = 808\n",
    ")\n",
    "\n",
    "# Train the model with balanced data\n",
    "bagging_2.fit(X_train_balanced, y_train_balanced)\n",
    "\n",
    "# Make predictions\n",
    "y_preds_2 = bagging_2.predict(X_test)\n",
    "y_proba_2 = bagging_2.predict_proba(X_test)[:,1]\n",
    "\n",
    "# Calculate bagging accuracy score\n",
    "bagging_accuracy_2 = accuracy_score(y_test, y_preds_2)\n",
    "oob_score_2 = bagging_2.oob_score_ \n",
    "# Print and compare\n",
    "print(f\"Bagging Out-of-Bag (OOB):{oob_score_2: .3f};\\nBagging Accuracy: {bagging_accuracy_2: .3f}\")\n",
    "\n",
    "# Calculate ROC Curve\n",
    "fpr_2, tpr_2, _ = roc_curve(y_test, y_proba_2)\n",
    "# Get AUC\n",
    "roc_auc_bagging_2 = roc_auc_score(y_test, y_proba_2)\n",
    "\n",
    "# Plot ROC\n",
    "plt.figure(figsize=(8,6))\n",
    "\n",
    "# Logistic curve\n",
    "plt.plot(fpr_2, tpr_2, color='darkorange', lw=2, label=f'Bagging ROC Curve (AUC = {roc_auc_bagging_2:.2f})')\n",
    "\n",
    "plt.title('ROC Curve: Species Presence Prediction')\n",
    "plt.ylabel('True Positive Rate')\n",
    "plt.xlabel('False Positive Rate')\n",
    "plt.legend()\n",
    "plt.grid(True)\n",
    "plt.show()"
   ]
  },
  {
   "cell_type": "markdown",
   "metadata": {},
   "source": [
    "How did this second model, trained on balanced data, do in comparison to the first on the accuracy and AUC metrics.  How should we interpret those results?  Did the upscaling prove useful?"
   ]
  },
  {
   "cell_type": "markdown",
   "metadata": {},
   "source": [
    "The OOB scores increased from 0.858 to 0.963, indicating that the retrained model helped with model generalization. However, the accuracy of the model decreased from 0.932 to 0.808. The AUC increase (from 0.64 to 0.7) suggests that even though class imbalance is accounted for in the second model, there's no significant increase in performance with the upscaling.  "
   ]
  },
  {
   "cell_type": "markdown",
   "metadata": {},
   "source": [
    "### Step 8: Analyzing feature importance with permutation importance\n",
    "\n",
    "Understanding which bird traits contribute the most to our model’s predictions is crucial for interpreting results. We covered in lecture how the results of ensemble methods are harder to interpret than a single decision tree.  But we do have some tools to do it.  In this step, we will compute permutation importance, which measures the impact of each trait by shuffling its values and observing the effect on model performance. This will help us identify which functional traits—such as diet, body mass, or habitat breadth—play the biggest role in predicting whether a species is found in a subarid environment.\n",
    "\n",
    "Use `permutation_importance()` to calculate the importance values.  You'll need to pass it the model, the feature and target test data, and an n_repeats value of 10."
   ]
  },
  {
   "cell_type": "code",
   "execution_count": 27,
   "metadata": {
    "tags": []
   },
   "outputs": [
    {
     "name": "stdout",
     "output_type": "stream",
     "text": [
      "               Feature    Importance\n",
      "11     ForagingStratum  2.602740e-02\n",
      "18        NestingHabit  2.465753e-02\n",
      "0        AdultBodyMass  1.506849e-02\n",
      "10       ActivityCycle  1.369863e-02\n",
      "1          DietBreadth  5.479452e-03\n",
      "3     Diet_Vertebrates  4.109589e-03\n",
      "12     MigratoryStatus  4.109589e-03\n",
      "19        MaxLongevity  2.739726e-03\n",
      "15           EggLength  2.739726e-03\n",
      "5         Diet_Flowers  1.110223e-17\n",
      "6           Diet_seeds  0.000000e+00\n",
      "7          Diet_Plants -1.369863e-03\n",
      "8           Diet_Other -1.369863e-03\n",
      "9         TrophicLevel -2.739726e-03\n",
      "16            EggWidth -5.479452e-03\n",
      "14          ClutchSize -6.849315e-03\n",
      "4          Diet_Fruits -1.095890e-02\n",
      "2   Diet_Invertebrates -1.369863e-02\n",
      "17             EggMass -2.054795e-02\n",
      "13      IncubationTime -2.191781e-02\n"
     ]
    }
   ],
   "source": [
    "# Calculate permutation importance\n",
    "imp = permutation_importance(bagging_2, X_test, y_test, n_repeats = 10, random_state = 808)\n",
    "imp\n",
    "# List feature importance\n",
    "imp_df = pd.DataFrame(zip(X_test.columns, imp.importances_mean), columns=['Feature', 'Importance'])\n",
    "\n",
    "# Print the sorted feature importance\n",
    "print(imp_df.sort_values(by = 'Importance', ascending = False))"
   ]
  },
  {
   "cell_type": "markdown",
   "metadata": {},
   "source": [
    "What features are most important in our model of species distribution?"
   ]
  },
  {
   "cell_type": "markdown",
   "metadata": {},
   "source": [
    "The top five most important features in our model are `ForagingStratum`, `NestingHabit`, `AdultBodyMass`, `ActivityCycle`, `DietBreadth`."
   ]
  },
  {
   "cell_type": "code",
   "execution_count": null,
   "metadata": {},
   "outputs": [],
   "source": []
  }
 ],
 "metadata": {
  "kernelspec": {
   "display_name": "Anaconda 3 (EDS232)",
   "language": "python",
   "name": "ml-env"
  },
  "language_info": {
   "codemirror_mode": {
    "name": "ipython",
    "version": 3
   },
   "file_extension": ".py",
   "mimetype": "text/x-python",
   "name": "python",
   "nbconvert_exporter": "python",
   "pygments_lexer": "ipython3",
   "version": "3.10.16"
  }
 },
 "nbformat": 4,
 "nbformat_minor": 4
}
